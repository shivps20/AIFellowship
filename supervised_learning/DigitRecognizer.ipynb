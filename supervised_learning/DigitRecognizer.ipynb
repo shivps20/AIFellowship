{
 "cells": [
  {
   "cell_type": "markdown",
   "id": "c8084042-9510-41de-bd06-7082cab8110b",
   "metadata": {},
   "source": [
    "# Digit Recognizer\n",
    "\n",
    "## Description\n",
    "MNIST (\"Modified National Institute of Standards and Technology\") is the de facto “hello world” dataset of computer vision. Since its release in 1999, this classic dataset of handwritten images has served as the basis for benchmarking classification algorithms. As new machine learning techniques emerge, MNIST remains a reliable resource for researchers and learners alike.\n",
    "\n",
    "## Goal\n",
    "Your goal is to **correctly identify digits from a dataset of tens of thousands of handwritten images**. "
   ]
  },
  {
   "cell_type": "markdown",
   "id": "98e253e4-985e-433b-8d1d-af231a15198f",
   "metadata": {},
   "source": [
    "## Steps to perform\n",
    "Load the Data - test.csv and train.csv (Using Pandas) <br>\n",
    "Pre-Process the data set by Splitting into features and target values <br>\n",
    "Optionally split further into train/validation sets using train_test_split() to evaluate during training <br>\n",
    "Normalize/Standardize the Features <br>\n",
    "Chose and Train the Model <br>\n",
    "Make Predictions <br>\n",
    "Evaluate the Model (Measure the error or loss) <br>\n",
    "Adjust parameters (weight and bias) to reduce the error <br>\n",
    "Repeat Steps 5 to 8, until the error is minimized (converged) <br>"
   ]
  },
  {
   "cell_type": "code",
   "execution_count": 2,
   "id": "f544a45b-450f-455a-b22a-d6759d02389f",
   "metadata": {},
   "outputs": [],
   "source": [
    "import numpy as np # linear algebra\n",
    "import pandas as pd # data processing, CSV file I/O (e.g. pd.read_csv)"
   ]
  },
  {
   "cell_type": "code",
   "execution_count": 4,
   "id": "0c1c54fb-cc6b-4634-993f-35802df98132",
   "metadata": {},
   "outputs": [
    {
     "name": "stdout",
     "output_type": "stream",
     "text": [
      "Sample Training data............\n",
      "   label  pixel0  pixel1  pixel2  pixel3  pixel4  pixel5  pixel6  pixel7  \\\n",
      "0      1       0       0       0       0       0       0       0       0   \n",
      "1      0       0       0       0       0       0       0       0       0   \n",
      "2      1       0       0       0       0       0       0       0       0   \n",
      "3      4       0       0       0       0       0       0       0       0   \n",
      "4      0       0       0       0       0       0       0       0       0   \n",
      "\n",
      "   pixel8  ...  pixel774  pixel775  pixel776  pixel777  pixel778  pixel779  \\\n",
      "0       0  ...         0         0         0         0         0         0   \n",
      "1       0  ...         0         0         0         0         0         0   \n",
      "2       0  ...         0         0         0         0         0         0   \n",
      "3       0  ...         0         0         0         0         0         0   \n",
      "4       0  ...         0         0         0         0         0         0   \n",
      "\n",
      "   pixel780  pixel781  pixel782  pixel783  \n",
      "0         0         0         0         0  \n",
      "1         0         0         0         0  \n",
      "2         0         0         0         0  \n",
      "3         0         0         0         0  \n",
      "4         0         0         0         0  \n",
      "\n",
      "[5 rows x 785 columns]\n",
      "Sample Testing data............\n",
      "   pixel0  pixel1  pixel2  pixel3  pixel4  pixel5  pixel6  pixel7  pixel8  \\\n",
      "0       0       0       0       0       0       0       0       0       0   \n",
      "1       0       0       0       0       0       0       0       0       0   \n",
      "2       0       0       0       0       0       0       0       0       0   \n",
      "3       0       0       0       0       0       0       0       0       0   \n",
      "4       0       0       0       0       0       0       0       0       0   \n",
      "\n",
      "   pixel9  ...  pixel774  pixel775  pixel776  pixel777  pixel778  pixel779  \\\n",
      "0       0  ...         0         0         0         0         0         0   \n",
      "1       0  ...         0         0         0         0         0         0   \n",
      "2       0  ...         0         0         0         0         0         0   \n",
      "3       0  ...         0         0         0         0         0         0   \n",
      "4       0  ...         0         0         0         0         0         0   \n",
      "\n",
      "   pixel780  pixel781  pixel782  pixel783  \n",
      "0         0         0         0         0  \n",
      "1         0         0         0         0  \n",
      "2         0         0         0         0  \n",
      "3         0         0         0         0  \n",
      "4         0         0         0         0  \n",
      "\n",
      "[5 rows x 784 columns]\n"
     ]
    }
   ],
   "source": [
    " # Load the data\n",
    "train_data = pd.read_csv(\"train.csv\")\n",
    "test_data = pd.read_csv(\"test.csv\")\n",
    "\n",
    "print(\"Sample Training data............\")\n",
    "print(train_data.head())\n",
    "\n",
    "print(\"Sample Testing data............\")\n",
    "print(test_data.head())"
   ]
  },
  {
   "cell_type": "code",
   "execution_count": 5,
   "id": "a19ee8f7-e672-4ffb-966a-fb2deada6b94",
   "metadata": {},
   "outputs": [
    {
     "name": "stdout",
     "output_type": "stream",
     "text": [
      "train_data dimension - (42000, 785)\n",
      "test_data dimension - (28000, 784)\n"
     ]
    }
   ],
   "source": [
    "print(f\"train_data dimension - {train_data.shape}\") # 1st Column i.e. \"label\" is the number\n",
    "print(f\"test_data dimension - {test_data.shape}\")"
   ]
  },
  {
   "cell_type": "code",
   "execution_count": 6,
   "id": "0107da2a-9a7d-42e5-a552-afb53e210ee0",
   "metadata": {},
   "outputs": [
    {
     "name": "stdout",
     "output_type": "stream",
     "text": [
      "Features Data: \n",
      "        pixel0  pixel1  pixel2  pixel3  pixel4  pixel5  pixel6  pixel7  pixel8  \\\n",
      "0           0       0       0       0       0       0       0       0       0   \n",
      "1           0       0       0       0       0       0       0       0       0   \n",
      "2           0       0       0       0       0       0       0       0       0   \n",
      "3           0       0       0       0       0       0       0       0       0   \n",
      "4           0       0       0       0       0       0       0       0       0   \n",
      "...       ...     ...     ...     ...     ...     ...     ...     ...     ...   \n",
      "41995       0       0       0       0       0       0       0       0       0   \n",
      "41996       0       0       0       0       0       0       0       0       0   \n",
      "41997       0       0       0       0       0       0       0       0       0   \n",
      "41998       0       0       0       0       0       0       0       0       0   \n",
      "41999       0       0       0       0       0       0       0       0       0   \n",
      "\n",
      "       pixel9  ...  pixel774  pixel775  pixel776  pixel777  pixel778  \\\n",
      "0           0  ...         0         0         0         0         0   \n",
      "1           0  ...         0         0         0         0         0   \n",
      "2           0  ...         0         0         0         0         0   \n",
      "3           0  ...         0         0         0         0         0   \n",
      "4           0  ...         0         0         0         0         0   \n",
      "...       ...  ...       ...       ...       ...       ...       ...   \n",
      "41995       0  ...         0         0         0         0         0   \n",
      "41996       0  ...         0         0         0         0         0   \n",
      "41997       0  ...         0         0         0         0         0   \n",
      "41998       0  ...         0         0         0         0         0   \n",
      "41999       0  ...         0         0         0         0         0   \n",
      "\n",
      "       pixel779  pixel780  pixel781  pixel782  pixel783  \n",
      "0             0         0         0         0         0  \n",
      "1             0         0         0         0         0  \n",
      "2             0         0         0         0         0  \n",
      "3             0         0         0         0         0  \n",
      "4             0         0         0         0         0  \n",
      "...         ...       ...       ...       ...       ...  \n",
      "41995         0         0         0         0         0  \n",
      "41996         0         0         0         0         0  \n",
      "41997         0         0         0         0         0  \n",
      "41998         0         0         0         0         0  \n",
      "41999         0         0         0         0         0  \n",
      "\n",
      "[42000 rows x 784 columns]\n",
      "\n",
      "\n",
      "\n",
      "Target Data: \n",
      " 0        1\n",
      "1        0\n",
      "2        1\n",
      "3        4\n",
      "4        0\n",
      "        ..\n",
      "41995    0\n",
      "41996    1\n",
      "41997    7\n",
      "41998    6\n",
      "41999    9\n",
      "Name: label, Length: 42000, dtype: int64\n"
     ]
    }
   ],
   "source": [
    "# Split the Data into Features and Values\n",
    "X = train_data.drop(\"label\", axis=1) # axis=1 means \"drop column\" (not row)\n",
    "y = train_data[\"label\"]\n",
    "\n",
    "print(f\"Features Data: \\n {X}\")\n",
    "print(\"\\n\\n\")\n",
    "print(f\"Target Data: \\n {y}\")"
   ]
  },
  {
   "cell_type": "code",
   "execution_count": 7,
   "id": "5ba265b7-77e8-4496-bb40-5f918d4e3ed8",
   "metadata": {},
   "outputs": [],
   "source": [
    "# Normalize the features (scale 0-255 to 0-1)\n",
    "X = X / 255.0\n",
    "test_data = test_data / 255.0"
   ]
  },
  {
   "cell_type": "code",
   "execution_count": 8,
   "id": "33a5c0f5-639e-487a-a740-2cb276dd29fe",
   "metadata": {},
   "outputs": [
    {
     "name": "stdout",
     "output_type": "stream",
     "text": [
      "Training set size  : 33600 samples\n",
      "Validation set size: 8400 samples\n"
     ]
    }
   ],
   "source": [
    "from sklearn.model_selection import train_test_split\n",
    "\n",
    "X_train, X_validate, y_train, y_validate = train_test_split(X, y, test_size=0.2, random_state=42)\n",
    "print(f\"Training set size  : {X_train.shape[0]} samples\")\n",
    "print(f\"Validation set size: {X_validate.shape[0]} samples\")"
   ]
  },
  {
   "cell_type": "code",
   "execution_count": 9,
   "id": "7f25c4c3-0ea8-4104-b1ed-ee654d6c5ac8",
   "metadata": {},
   "outputs": [],
   "source": [
    "# Apply PCA to improve the accuracy further\n",
    "# from sklearn.decomposition import PCA\n",
    "\n",
    "# pca = PCA(n_components=0.95, random_state=42)  # Keep 95% variance\n",
    "# X_train_pca = pca.fit_transform(X_train)\n",
    "# X_validate_pca = pca.transform(X_validate)"
   ]
  },
  {
   "cell_type": "code",
   "execution_count": 10,
   "id": "33f8bf5e-5c83-4db1-9368-9972f2af7644",
   "metadata": {},
   "outputs": [
    {
     "name": "stdout",
     "output_type": "stream",
     "text": [
      "Model training completed!\n"
     ]
    }
   ],
   "source": [
    "# Chose and Train the Model\n",
    "from sklearn.linear_model import LogisticRegression\n",
    "from sklearn.ensemble import RandomForestClassifier\n",
    "\n",
    "# model = LogisticRegression(solver='lbfgs', max_iter=1000, multi_class='multinomial')\n",
    "model = RandomForestClassifier(n_estimators=100, random_state=42)\n",
    "# model = LogisticRegression(max_iter=1000)\n",
    "# model.fit(X_train, y_train)\n",
    "model.fit(X_train, y_train)\n",
    "print(\"Model training completed!\")"
   ]
  },
  {
   "cell_type": "code",
   "execution_count": 11,
   "id": "02268c5c-0e14-4455-ae9a-6c62a90ba764",
   "metadata": {},
   "outputs": [
    {
     "name": "stdout",
     "output_type": "stream",
     "text": [
      "\n",
      "Model Accuracy: 0.96\n",
      "\n",
      "Classification Report:\n",
      "               precision    recall  f1-score   support\n",
      "\n",
      "           0       0.98      0.98      0.98       816\n",
      "           1       0.98      0.99      0.99       909\n",
      "           2       0.96      0.96      0.96       846\n",
      "           3       0.96      0.95      0.96       937\n",
      "           4       0.96      0.97      0.96       839\n",
      "           5       0.96      0.96      0.96       702\n",
      "           6       0.96      0.98      0.97       785\n",
      "           7       0.97      0.95      0.96       893\n",
      "           8       0.95      0.95      0.95       835\n",
      "           9       0.93      0.94      0.94       838\n",
      "\n",
      "    accuracy                           0.96      8400\n",
      "   macro avg       0.96      0.96      0.96      8400\n",
      "weighted avg       0.96      0.96      0.96      8400\n",
      "\n"
     ]
    }
   ],
   "source": [
    "# Make Predictions\n",
    "from sklearn.metrics import classification_report, confusion_matrix, accuracy_score\n",
    "\n",
    "# y_pred = model.predict(X_validate)\n",
    "y_pred = model.predict(X_validate)\n",
    "accuracy = accuracy_score(y_validate, y_pred)\n",
    "print(f\"\\nModel Accuracy: {accuracy:.2f}\")\n",
    "print(\"\\nClassification Report:\\n\", classification_report(y_validate, y_pred))"
   ]
  },
  {
   "cell_type": "code",
   "execution_count": null,
   "id": "d58116d5-0907-4b1b-9e30-7f9603b7ba11",
   "metadata": {},
   "outputs": [],
   "source": []
  }
 ],
 "metadata": {
  "kernelspec": {
   "display_name": "Python 3 (ipykernel)",
   "language": "python",
   "name": "python3"
  },
  "language_info": {
   "codemirror_mode": {
    "name": "ipython",
    "version": 3
   },
   "file_extension": ".py",
   "mimetype": "text/x-python",
   "name": "python",
   "nbconvert_exporter": "python",
   "pygments_lexer": "ipython3",
   "version": "3.13.3"
  }
 },
 "nbformat": 4,
 "nbformat_minor": 5
}
