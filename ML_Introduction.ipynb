{
 "cells": [
  {
   "cell_type": "markdown",
   "id": "51c54ca2-9b8b-4be0-85dc-06c36015c8da",
   "metadata": {},
   "source": [
    "# Introduction to Machine Learning"
   ]
  },
  {
   "cell_type": "markdown",
   "id": "5684e84e-a231-48b3-8c51-b4716fad6b38",
   "metadata": {},
   "source": [
    "## Why Machine Learning ?"
   ]
  },
  {
   "cell_type": "markdown",
   "id": "d411a06b-0520-4fc4-8a6c-2a3782e6f6c2",
   "metadata": {},
   "source": [
    "Machine Learning is all about deriving insights or answers based on already available information (data). It enables systems (machines) to learn from existing datasets and become capable of **making decisions—particularly predictions**—without the need for explicit programming.\n",
    "\n",
    "Machine Learning is based on algorithms that facilitate automated decision-making processes, using patterns learned from data during training—particularly through techniques like **supervised learning**."
   ]
  },
  {
   "cell_type": "markdown",
   "id": "1df9569f-88f7-4dc6-9507-519d7e2fd069",
   "metadata": {},
   "source": [
    "## Why Python for ML ?"
   ]
  },
  {
   "cell_type": "markdown",
   "id": "0fe05f53-aa24-4422-b657-4962c93beee8",
   "metadata": {},
   "source": [
    "Python has become one of the most prominent and popular programming languages for Machine Learning. Some of the key reasons for its popularity include:\n",
    "\n",
    "1. **Ease of Learning and Use** – Python’s simple syntax makes it beginner-friendly and ideal for rapid development.\n",
    "2. **Rich Ecosystem of Libraries** – Python offers a wide range of well-developed libraries for ML, such as NumPy, Pandas, TensorFlow, and scikit-learn, making it easier to build models and process data.\n",
    "3. **Platform Independence** – Python is cross-platform and can run seamlessly on Windows, Linux, and macOS, offering great flexibility for deployment."
   ]
  },
  {
   "cell_type": "markdown",
   "id": "38b743cd-17fd-41ff-821c-788e54837afd",
   "metadata": {},
   "source": [
    "## Key Python Libraries"
   ]
  },
  {
   "cell_type": "markdown",
   "id": "e63a98a3-fce2-441e-a29e-62203a5bb596",
   "metadata": {},
   "source": [
    "Here are some of key libraries of Python which are very useful for ML programming - \n",
    "1. **Numpy**        : It stands for Numerical Python. Useful for numerical computations on n-dimensional arrays.\n",
    "2. **Pandas**       : Usedful for data manipulation and analysis.\n",
    "3. **SciPy**        : Scientific Python. It is based on NumPy and is very useful in science in engineering modules like Linear Algebra, Sparse Matrices etc.\n",
    "4. **Scikit-Learn** : Contains a lot of algorithms for Machine Learning and Statisticual Computation.\n",
    "5. **Matplotlib**   : For plotting various types of graphs.\n",
    "6. **Seaborn**      : Used for making visually appealing and informative statistical graphs in Python.\n",
    "7. **TensorFlow**   : Developed by Google, useful for static and dynamic computation graphs.\n",
    "8. **PyTorch**      : Developed by Meta, useful for dynamic graphs. "
   ]
  }
 ],
 "metadata": {
  "kernelspec": {
   "display_name": "Python 3 (ipykernel)",
   "language": "python",
   "name": "python3"
  },
  "language_info": {
   "codemirror_mode": {
    "name": "ipython",
    "version": 3
   },
   "file_extension": ".py",
   "mimetype": "text/x-python",
   "name": "python",
   "nbconvert_exporter": "python",
   "pygments_lexer": "ipython3",
   "version": "3.13.3"
  }
 },
 "nbformat": 4,
 "nbformat_minor": 5
}
